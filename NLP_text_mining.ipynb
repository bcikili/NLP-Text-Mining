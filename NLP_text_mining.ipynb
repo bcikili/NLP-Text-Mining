{
  "nbformat": 4,
  "nbformat_minor": 0,
  "metadata": {
    "colab": {
      "name": "NLP_text_mining.ipynb",
      "provenance": []
    },
    "kernelspec": {
      "name": "python3",
      "display_name": "Python 3"
    }
  },
  "cells": [
    {
      "cell_type": "code",
      "metadata": {
        "id": "6DxAqtkk3Kcu"
      },
      "source": [
        "import requests\r\n",
        "from bs4 import BeautifulSoup\r\n",
        "import nltk\r\n",
        "from nltk.tokenize import RegexpTokenizer\r\n",
        "import matplotlib.pyplot as plt\r\n",
        "import seaborn as sns"
      ],
      "execution_count": 1,
      "outputs": []
    },
    {
      "cell_type": "code",
      "metadata": {
        "id": "dide4lJV3beN"
      },
      "source": [
        "# Read in Data\r\n",
        "url = 'http://www.gutenberg.org/files/24689/24689-h/24689-h.htm'\r\n",
        "r = requests.get(url)"
      ],
      "execution_count": 18,
      "outputs": []
    },
    {
      "cell_type": "code",
      "metadata": {
        "colab": {
          "base_uri": "https://localhost:8080/"
        },
        "id": "1WzBYBYe3hli",
        "outputId": "030221c3-1601-4346-941a-a70e836c2fba"
      },
      "source": [
        "type(r)"
      ],
      "execution_count": 19,
      "outputs": [
        {
          "output_type": "execute_result",
          "data": {
            "text/plain": [
              "requests.models.Response"
            ]
          },
          "metadata": {
            "tags": []
          },
          "execution_count": 19
        }
      ]
    },
    {
      "cell_type": "code",
      "metadata": {
        "colab": {
          "base_uri": "https://localhost:8080/"
        },
        "id": "NzTVBUSG3kLZ",
        "outputId": "6fd9f6ea-9903-423e-bf8d-03aa94c7af17"
      },
      "source": [
        "#Converting to Soup\r\n",
        "html = r.text\r\n",
        "soup = BeautifulSoup(html,\"html5lib\")\r\n",
        "type(soup)"
      ],
      "execution_count": 20,
      "outputs": [
        {
          "output_type": "execute_result",
          "data": {
            "text/plain": [
              "bs4.BeautifulSoup"
            ]
          },
          "metadata": {
            "tags": []
          },
          "execution_count": 20
        }
      ]
    },
    {
      "cell_type": "code",
      "metadata": {
        "colab": {
          "base_uri": "https://localhost:8080/",
          "height": 35
        },
        "id": "a4MMiJ5v3nvJ",
        "outputId": "22cdad05-ce83-49f6-89c2-8bc1e1817788"
      },
      "source": [
        "soup.title.string"
      ],
      "execution_count": 21,
      "outputs": [
        {
          "output_type": "execute_result",
          "data": {
            "application/vnd.google.colaboratory.intrinsic+json": {
              "type": "string"
            },
            "text/plain": [
              "'\\n      The Project Gutenberg eBook of New Italian Sketches, by John Addington Symonds.\\n    '"
            ]
          },
          "metadata": {
            "tags": []
          },
          "execution_count": 21
        }
      ]
    },
    {
      "cell_type": "code",
      "metadata": {
        "colab": {
          "base_uri": "https://localhost:8080/"
        },
        "id": "i2Ow9So93wjw",
        "outputId": "1de9bcfb-0dc6-472e-f322-fe5e7d9d68ef"
      },
      "source": [
        "#Tokenize\r\n",
        "text = soup.get_text()\r\n",
        "tokenizer = RegexpTokenizer('\\w+')\r\n",
        "tokens = tokenizer.tokenize(text)\r\n",
        "tokens[:10]"
      ],
      "execution_count": 24,
      "outputs": [
        {
          "output_type": "execute_result",
          "data": {
            "text/plain": [
              "['The',\n",
              " 'Project',\n",
              " 'Gutenberg',\n",
              " 'eBook',\n",
              " 'of',\n",
              " 'New',\n",
              " 'Italian',\n",
              " 'Sketches',\n",
              " 'by',\n",
              " 'John']"
            ]
          },
          "metadata": {
            "tags": []
          },
          "execution_count": 24
        }
      ]
    },
    {
      "cell_type": "code",
      "metadata": {
        "colab": {
          "base_uri": "https://localhost:8080/"
        },
        "id": "CxYm2a4Q3045",
        "outputId": "ecbb4902-8d75-4812-d3f8-46b509ecd44a"
      },
      "source": [
        "# Make all lower case\r\n",
        "words = []\r\n",
        "for word in tokens:\r\n",
        "    words.append(word.lower())\r\n",
        "words[:10]"
      ],
      "execution_count": 25,
      "outputs": [
        {
          "output_type": "execute_result",
          "data": {
            "text/plain": [
              "['the',\n",
              " 'project',\n",
              " 'gutenberg',\n",
              " 'ebook',\n",
              " 'of',\n",
              " 'new',\n",
              " 'italian',\n",
              " 'sketches',\n",
              " 'by',\n",
              " 'john']"
            ]
          },
          "metadata": {
            "tags": []
          },
          "execution_count": 25
        }
      ]
    },
    {
      "cell_type": "code",
      "metadata": {
        "colab": {
          "base_uri": "https://localhost:8080/"
        },
        "id": "Xstte2OE4LHR",
        "outputId": "ba0d8bf6-4705-4c67-fc77-a48c8716e76d"
      },
      "source": [
        "#Removing stopwords\r\n",
        "nltk.download('stopwords') \r\n",
        "stopwords = nltk.corpus.stopwords.words('english')\r\n",
        "stopwords[:10]"
      ],
      "execution_count": 26,
      "outputs": [
        {
          "output_type": "stream",
          "text": [
            "[nltk_data] Downloading package stopwords to /root/nltk_data...\n",
            "[nltk_data]   Package stopwords is already up-to-date!\n"
          ],
          "name": "stdout"
        },
        {
          "output_type": "execute_result",
          "data": {
            "text/plain": [
              "['i', 'me', 'my', 'myself', 'we', 'our', 'ours', 'ourselves', 'you', \"you're\"]"
            ]
          },
          "metadata": {
            "tags": []
          },
          "execution_count": 26
        }
      ]
    },
    {
      "cell_type": "code",
      "metadata": {
        "colab": {
          "base_uri": "https://localhost:8080/"
        },
        "id": "P5C-Waii4Rcg",
        "outputId": "45490799-0e82-46c2-8929-94d126354386"
      },
      "source": [
        "wordsWithoutStops = []\r\n",
        "for word in words:\r\n",
        "    if word not in stopwords:\r\n",
        "        wordsWithoutStops.append(word)\r\n",
        "wordsWithoutStops[:10]"
      ],
      "execution_count": 29,
      "outputs": [
        {
          "output_type": "execute_result",
          "data": {
            "text/plain": [
              "['project',\n",
              " 'gutenberg',\n",
              " 'ebook',\n",
              " 'new',\n",
              " 'italian',\n",
              " 'sketches',\n",
              " 'john',\n",
              " 'addington',\n",
              " 'symonds',\n",
              " 'cdata']"
            ]
          },
          "metadata": {
            "tags": []
          },
          "execution_count": 29
        }
      ]
    },
    {
      "cell_type": "code",
      "metadata": {
        "colab": {
          "base_uri": "https://localhost:8080/",
          "height": 332
        },
        "id": "YLDQ-lnf4fO4",
        "outputId": "9eb78b44-9d0f-4c79-a7ce-e40739d05cd9"
      },
      "source": [
        "#plot freq. of words\r\n",
        "%matplotlib inline\r\n",
        "sns.set()\r\n",
        "frequencyDis = nltk.FreqDist(wordsWithoutStops)\r\n",
        "frequencyDis.plot(30)"
      ],
      "execution_count": 30,
      "outputs": [
        {
          "output_type": "display_data",
          "data": {
            "image/png": "[encoded data removed]",
            "text/plain": [
              "<Figure size 432x288 with 1 Axes>"
            ]
          },
          "metadata": {
            "tags": []
          }
        }
      ]
    },
    {
      "cell_type": "code",
      "metadata": {
        "id": "sXGF8I0d4m05"
      },
      "source": [
        ""
      ],
      "execution_count": null,
      "outputs": []
    }
  ]
}